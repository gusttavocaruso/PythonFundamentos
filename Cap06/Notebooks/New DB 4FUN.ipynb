{
 "cells": [
  {
   "cell_type": "code",
   "execution_count": null,
   "id": "2e22eeea",
   "metadata": {},
   "outputs": [],
   "source": [
    "import sqlite3\n",
    "import datetime\n",
    "import random"
   ]
  },
  {
   "cell_type": "code",
   "execution_count": null,
   "id": "12a1a657",
   "metadata": {},
   "outputs": [],
   "source": [
    "connection = sqlite3.connect('houseAchievements.db')\n",
    "cursor = connection.cursor()"
   ]
  },
  {
   "cell_type": "code",
   "execution_count": null,
   "id": "ea9eb390",
   "metadata": {},
   "outputs": [],
   "source": [
    "def table_creator():\n",
    "    sql_query = ('CREATE TABLE IF NOT EXIST Expenses(id INTEGER PRIMARY KEY AUTOINCREMENT NOT NULL '\\\n",
    "        'expense_name TEXT, '\\\n",
    "        'expense_why TEXT, '\\\n",
    "        'expense_how REAL,' \\\n",
    "        'expense_date TEXT)')\n",
    "    \n",
    "    cursor.execute(sql_query)"
   ]
  },
  {
   "cell_type": "code",
   "execution_count": null,
   "id": "72d88265",
   "metadata": {
    "scrolled": false
   },
   "outputs": [],
   "source": [
    "table_creator()"
   ]
  },
  {
   "cell_type": "code",
   "execution_count": null,
   "id": "1951eab0",
   "metadata": {},
   "outputs": [],
   "source": []
  }
 ],
 "metadata": {
  "kernelspec": {
   "display_name": "Python 3",
   "language": "python",
   "name": "python3"
  },
  "language_info": {
   "codemirror_mode": {
    "name": "ipython",
    "version": 3
   },
   "file_extension": ".py",
   "mimetype": "text/x-python",
   "name": "python",
   "nbconvert_exporter": "python",
   "pygments_lexer": "ipython3",
   "version": "3.8.8"
  }
 },
 "nbformat": 4,
 "nbformat_minor": 5
}
