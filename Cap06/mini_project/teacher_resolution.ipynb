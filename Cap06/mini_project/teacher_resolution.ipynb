{
 "cells": [
  {
   "cell_type": "markdown",
   "metadata": {},
   "source": [
    "## Mini-Projeto 1 - Guia de Análise Exploratória de Dados com Python e Linguagem SQL"
   ]
  },
  {
   "cell_type": "markdown",
   "metadata": {},
   "source": [
    "Neste Mini-Projeto vamos apresentar um guia básico de análise exploratória de dados usando Linguagem Python, Linguagem SQL e Banco de Dados SQLite. Usaremos dados reais disponíveis publicamente, dados sobre filmes no <a href=\"https://www.imdb.com/interfaces/\">IMDB</a>.\n",
    "\n",
    "Ao aplicar Análise Exploratória de Dados vamos responder a estas 10 perguntas:\n",
    "\n",
    "- 1- Quais São as Categorias de Filmes Mais Comuns no IMDB?\n",
    "- 2- Qual o Número de Títulos Por Gênero?\n",
    "- 3- Qual a Mediana de Avaliação dos Filmes Por Gênero?\n",
    "- 4- Qual a Mediana de Avaliação dos Filmes Em Relação ao Ano de Estréia?\n",
    "- 5- Qual o Número de Filmes Avaliados Por Gênero Em Relação ao Ano de Estréia?\n",
    "- 6- Qual o Filme Com Maior Tempo de Duração? Calcule os Percentis.\n",
    "- 7- Qual a Relação Entre Duração e Gênero?\n",
    "- 8- Qual o Número de Filmes Produzidos Por País?\n",
    "- 9- Quais São os Top 10 Melhores Filmes?\n",
    "- 10- Quais São os Top 10 Piores Filmes?"
   ]
  },
  {
   "cell_type": "markdown",
   "metadata": {},
   "source": [
    "## Instalando e Carregando Pacotes"
   ]
  },
  {
   "cell_type": "code",
   "execution_count": null,
   "metadata": {},
   "outputs": [],
   "source": [
    "# Versão da Linguagem Python\n",
    "from platform import python_version\n",
    "print('Versão da Linguagem Python Usada Neste Jupyter Notebook:', python_version())"
   ]
  },
  {
   "cell_type": "markdown",
   "metadata": {},
   "source": [
    "https://pypi.org/\n",
    "\n",
    "https://pypi.org/project/imdb-sqlite/"
   ]
  },
  {
   "cell_type": "code",
   "execution_count": 1,
   "metadata": {
    "colab": {
     "base_uri": "https://localhost:8080/"
    },
    "executionInfo": {
     "elapsed": 4275,
     "status": "ok",
     "timestamp": 1622091434937,
     "user": {
      "displayName": "Utkarsh Sinha",
      "photoUrl": "",
      "userId": "11911393678467085382"
     },
     "user_tz": -330
    },
    "id": "XEa1Oqd5t8tX",
    "outputId": "8ac987f5-8bd3-46f1-d5aa-626df31d650f"
   },
   "outputs": [
    {
     "name": "stdout",
     "output_type": "stream",
     "text": [
      "\u001b[33mWARNING: You are using pip version 22.0.4; however, version 22.1.1 is available.\r\n",
      "You should consider upgrading via the '/usr/bin/python3 -m pip install --upgrade pip' command.\u001b[0m\u001b[33m\r\n",
      "\u001b[0m"
     ]
    }
   ],
   "source": [
    "# Instala o pacote\n",
    "!pip install -q imdb-sqlite"
   ]
  },
  {
   "cell_type": "markdown",
   "metadata": {},
   "source": [
    "Agora executamos o pacote para download dos datasets."
   ]
  },
  {
   "cell_type": "code",
   "execution_count": 2,
   "metadata": {},
   "outputs": [],
   "source": [
    "# Instala o pacote\n",
    "# https://pypi.org/project/pycountry/\n",
    "!pip install -q pycountry"
   ]
  },
  {
   "cell_type": "code",
   "execution_count": 6,
   "metadata": {
    "id": "KwrZ9EWy02p7"
   },
   "outputs": [],
   "source": [
    "# Imports\n",
    "import re\n",
    "import time\n",
    "import sqlite3\n",
    "import pycountry\n",
    "import numpy as np\n",
    "import pandas as pd\n",
    "import matplotlib.pyplot as plt\n",
    "import seaborn as sns\n",
    "from matplotlib import cm\n",
    "from sklearn.feature_extraction.text import CountVectorizer\n",
    "import warnings\n",
    "warnings.filterwarnings(\"ignore\")\n",
    "sns.set_theme(style = \"whitegrid\")"
   ]
  },
  {
   "cell_type": "markdown",
   "metadata": {
    "id": "yebFAbpYviBJ"
   },
   "source": [
    "## Carregando os Dados\n",
    "\n",
    "Primeiro temos que baixar os dados!"
   ]
  },
  {
   "cell_type": "code",
   "execution_count": 7,
   "metadata": {
    "colab": {
     "base_uri": "https://localhost:8080/"
    },
    "executionInfo": {
     "elapsed": 1126675,
     "status": "ok",
     "timestamp": 1622092561602,
     "user": {
      "displayName": "Utkarsh Sinha",
      "photoUrl": "",
      "userId": "11911393678467085382"
     },
     "user_tz": -330
    },
    "id": "18JO-2JAwLf8",
    "outputId": "b4187b50-982a-4376-e43b-e9c6a2e56384"
   },
   "outputs": [
    {
     "name": "stdout",
     "output_type": "stream",
     "text": [
      "2022-05-30 12:35:49,435 GET https://datasets.imdbws.com/name.basics.tsv.gz -> downloads/name.basics.tsv.gz\n",
      "2022-05-30 12:36:44,963 GET https://datasets.imdbws.com/title.basics.tsv.gz -> downloads/title.basics.tsv.gz\n",
      "2022-05-30 12:37:23,210 GET https://datasets.imdbws.com/title.akas.tsv.gz -> downloads/title.akas.tsv.gz\n",
      "2022-05-30 12:38:30,315 GET https://datasets.imdbws.com/title.principals.tsv.gz -> downloads/title.principals.tsv.gz\n",
      "2022-05-30 12:39:26,205 GET https://datasets.imdbws.com/title.episode.tsv.gz -> downloads/title.episode.tsv.gz\n",
      "2022-05-30 12:39:31,836 GET https://datasets.imdbws.com/title.ratings.tsv.gz -> downloads/title.ratings.tsv.gz\n",
      "2022-05-30 12:39:33,040 Populating database: imdb.db\n",
      "2022-05-30 12:39:33,040 Applying schema\n",
      "2022-05-30 12:39:33,043 Importing file: downloads/name.basics.tsv.gz\n",
      "2022-05-30 12:39:33,043 Reading number of rows ...\n",
      "2022-05-30 12:39:36,741 Inserting rows into table: people\n",
      "100%|████████████████████████| 11664916/11664916 [01:31<00:00, 127795.35 rows/s]\n",
      "2022-05-30 12:41:08,026 Importing file: downloads/title.basics.tsv.gz\n",
      "2022-05-30 12:41:08,026 Reading number of rows ...\n",
      "2022-05-30 12:41:11,026 Inserting rows into table: titles\n",
      "100%|███████████████████████████| 8954681/8954681 [01:30<00:00, 99449.69 rows/s]\n",
      "2022-05-30 12:42:41,071 Importing file: downloads/title.akas.tsv.gz\n",
      "2022-05-30 12:42:41,071 Reading number of rows ...\n",
      "2022-05-30 12:42:46,515 Inserting rows into table: akas\n",
      "100%|████████████████████████| 32180817/32180817 [04:29<00:00, 119447.80 rows/s]\n",
      "2022-05-30 12:47:15,931 Importing file: downloads/title.principals.tsv.gz\n",
      "2022-05-30 12:47:15,931 Reading number of rows ...\n",
      "2022-05-30 12:47:24,444 Inserting rows into table: crew\n",
      "100%|████████████████████████| 50518967/50518967 [05:39<00:00, 148781.01 rows/s]\n",
      "2022-05-30 12:53:03,999 Importing file: downloads/title.episode.tsv.gz\n",
      "2022-05-30 12:53:03,999 Reading number of rows ...\n",
      "2022-05-30 12:53:04,737 Inserting rows into table: episodes\n",
      "100%|██████████████████████████| 6726009/6726009 [00:37<00:00, 177844.64 rows/s]\n",
      "2022-05-30 12:53:42,559 Importing file: downloads/title.ratings.tsv.gz\n",
      "2022-05-30 12:53:42,560 Reading number of rows ...\n",
      "2022-05-30 12:53:42,690 Inserting rows into table: ratings\n",
      "100%|██████████████████████████| 1247906/1247906 [00:07<00:00, 161365.91 rows/s]\n",
      "2022-05-30 12:53:50,426 Creating table indices ...\n",
      "2022-05-30 12:56:55,974 Import successful\n",
      "CPU times: user 32.6 s, sys: 7.92 s, total: 40.5 s\n",
      "Wall time: 21min 6s\n"
     ]
    }
   ],
   "source": [
    "%%time\n",
    "!imdb-sqlite"
   ]
  },
  {
   "cell_type": "code",
   "execution_count": 8,
   "metadata": {
    "id": "GCynwX5SFUt8"
   },
   "outputs": [],
   "source": [
    "# Conecta no banco de dados\n",
    "conn = sqlite3.connect(\"imdb.db\")"
   ]
  },
  {
   "cell_type": "code",
   "execution_count": 9,
   "metadata": {
    "id": "ODFg_X23F0Yu"
   },
   "outputs": [],
   "source": [
    "# Extrai a lista de tabelas\n",
    "tabelas = pd.read_sql_query(\"SELECT NAME AS 'Table_Name' FROM sqlite_master WHERE type = 'table'\", conn)"
   ]
  },
  {
   "cell_type": "code",
   "execution_count": 10,
   "metadata": {},
   "outputs": [
    {
     "data": {
      "text/plain": [
       "pandas.core.frame.DataFrame"
      ]
     },
     "execution_count": 10,
     "metadata": {},
     "output_type": "execute_result"
    }
   ],
   "source": [
    "# Tipo do objeto\n",
    "type(tabelas)"
   ]
  },
  {
   "cell_type": "code",
   "execution_count": 11,
   "metadata": {},
   "outputs": [
    {
     "data": {
      "text/html": [
       "<div>\n",
       "<style scoped>\n",
       "    .dataframe tbody tr th:only-of-type {\n",
       "        vertical-align: middle;\n",
       "    }\n",
       "\n",
       "    .dataframe tbody tr th {\n",
       "        vertical-align: top;\n",
       "    }\n",
       "\n",
       "    .dataframe thead th {\n",
       "        text-align: right;\n",
       "    }\n",
       "</style>\n",
       "<table border=\"1\" class=\"dataframe\">\n",
       "  <thead>\n",
       "    <tr style=\"text-align: right;\">\n",
       "      <th></th>\n",
       "      <th>Table_Name</th>\n",
       "    </tr>\n",
       "  </thead>\n",
       "  <tbody>\n",
       "    <tr>\n",
       "      <th>0</th>\n",
       "      <td>people</td>\n",
       "    </tr>\n",
       "    <tr>\n",
       "      <th>1</th>\n",
       "      <td>titles</td>\n",
       "    </tr>\n",
       "    <tr>\n",
       "      <th>2</th>\n",
       "      <td>akas</td>\n",
       "    </tr>\n",
       "    <tr>\n",
       "      <th>3</th>\n",
       "      <td>crew</td>\n",
       "    </tr>\n",
       "    <tr>\n",
       "      <th>4</th>\n",
       "      <td>episodes</td>\n",
       "    </tr>\n",
       "  </tbody>\n",
       "</table>\n",
       "</div>"
      ],
      "text/plain": [
       "  Table_Name\n",
       "0     people\n",
       "1     titles\n",
       "2       akas\n",
       "3       crew\n",
       "4   episodes"
      ]
     },
     "execution_count": 11,
     "metadata": {},
     "output_type": "execute_result"
    }
   ],
   "source": [
    "# Visualiza o resultado\n",
    "tabelas.head()"
   ]
  },
  {
   "cell_type": "code",
   "execution_count": 12,
   "metadata": {},
   "outputs": [],
   "source": [
    "# Vamos converter o dataframe em uma lista\n",
    "tabelas = tabelas[\"Table_Name\"].values.tolist()"
   ]
  },
  {
   "cell_type": "code",
   "execution_count": 13,
   "metadata": {
    "colab": {
     "base_uri": "https://localhost:8080/",
     "height": 1000
    },
    "executionInfo": {
     "elapsed": 12,
     "status": "ok",
     "timestamp": 1622092916485,
     "user": {
      "displayName": "Utkarsh Sinha",
      "photoUrl": "",
      "userId": "11911393678467085382"
     },
     "user_tz": -330
    },
    "id": "Z2GQyqVgF6gD",
    "outputId": "941eb9c7-df01-4cba-89fa-951252fa7dd7"
   },
   "outputs": [
    {
     "name": "stdout",
     "output_type": "stream",
     "text": [
      "Esquema da tabela: people\n"
     ]
    },
    {
     "data": {
      "text/html": [
       "<div>\n",
       "<style scoped>\n",
       "    .dataframe tbody tr th:only-of-type {\n",
       "        vertical-align: middle;\n",
       "    }\n",
       "\n",
       "    .dataframe tbody tr th {\n",
       "        vertical-align: top;\n",
       "    }\n",
       "\n",
       "    .dataframe thead th {\n",
       "        text-align: right;\n",
       "    }\n",
       "</style>\n",
       "<table border=\"1\" class=\"dataframe\">\n",
       "  <thead>\n",
       "    <tr style=\"text-align: right;\">\n",
       "      <th></th>\n",
       "      <th>cid</th>\n",
       "      <th>name</th>\n",
       "      <th>type</th>\n",
       "      <th>notnull</th>\n",
       "      <th>dflt_value</th>\n",
       "      <th>pk</th>\n",
       "    </tr>\n",
       "  </thead>\n",
       "  <tbody>\n",
       "    <tr>\n",
       "      <th>0</th>\n",
       "      <td>0</td>\n",
       "      <td>person_id</td>\n",
       "      <td>VARCHAR</td>\n",
       "      <td>0</td>\n",
       "      <td>None</td>\n",
       "      <td>1</td>\n",
       "    </tr>\n",
       "    <tr>\n",
       "      <th>1</th>\n",
       "      <td>1</td>\n",
       "      <td>name</td>\n",
       "      <td>VARCHAR</td>\n",
       "      <td>0</td>\n",
       "      <td>None</td>\n",
       "      <td>0</td>\n",
       "    </tr>\n",
       "    <tr>\n",
       "      <th>2</th>\n",
       "      <td>2</td>\n",
       "      <td>born</td>\n",
       "      <td>INTEGER</td>\n",
       "      <td>0</td>\n",
       "      <td>None</td>\n",
       "      <td>0</td>\n",
       "    </tr>\n",
       "    <tr>\n",
       "      <th>3</th>\n",
       "      <td>3</td>\n",
       "      <td>died</td>\n",
       "      <td>INTEGER</td>\n",
       "      <td>0</td>\n",
       "      <td>None</td>\n",
       "      <td>0</td>\n",
       "    </tr>\n",
       "  </tbody>\n",
       "</table>\n",
       "</div>"
      ],
      "text/plain": [
       "   cid       name     type  notnull dflt_value  pk\n",
       "0    0  person_id  VARCHAR        0       None   1\n",
       "1    1       name  VARCHAR        0       None   0\n",
       "2    2       born  INTEGER        0       None   0\n",
       "3    3       died  INTEGER        0       None   0"
      ]
     },
     "metadata": {},
     "output_type": "display_data"
    },
    {
     "name": "stdout",
     "output_type": "stream",
     "text": [
      "----------------------------------------------------------------------------------------------------\n",
      "\n",
      "\n",
      "Esquema da tabela: titles\n"
     ]
    },
    {
     "data": {
      "text/html": [
       "<div>\n",
       "<style scoped>\n",
       "    .dataframe tbody tr th:only-of-type {\n",
       "        vertical-align: middle;\n",
       "    }\n",
       "\n",
       "    .dataframe tbody tr th {\n",
       "        vertical-align: top;\n",
       "    }\n",
       "\n",
       "    .dataframe thead th {\n",
       "        text-align: right;\n",
       "    }\n",
       "</style>\n",
       "<table border=\"1\" class=\"dataframe\">\n",
       "  <thead>\n",
       "    <tr style=\"text-align: right;\">\n",
       "      <th></th>\n",
       "      <th>cid</th>\n",
       "      <th>name</th>\n",
       "      <th>type</th>\n",
       "      <th>notnull</th>\n",
       "      <th>dflt_value</th>\n",
       "      <th>pk</th>\n",
       "    </tr>\n",
       "  </thead>\n",
       "  <tbody>\n",
       "    <tr>\n",
       "      <th>0</th>\n",
       "      <td>0</td>\n",
       "      <td>title_id</td>\n",
       "      <td>VARCHAR</td>\n",
       "      <td>0</td>\n",
       "      <td>None</td>\n",
       "      <td>1</td>\n",
       "    </tr>\n",
       "    <tr>\n",
       "      <th>1</th>\n",
       "      <td>1</td>\n",
       "      <td>type</td>\n",
       "      <td>VARCHAR</td>\n",
       "      <td>0</td>\n",
       "      <td>None</td>\n",
       "      <td>0</td>\n",
       "    </tr>\n",
       "    <tr>\n",
       "      <th>2</th>\n",
       "      <td>2</td>\n",
       "      <td>primary_title</td>\n",
       "      <td>VARCHAR</td>\n",
       "      <td>0</td>\n",
       "      <td>None</td>\n",
       "      <td>0</td>\n",
       "    </tr>\n",
       "    <tr>\n",
       "      <th>3</th>\n",
       "      <td>3</td>\n",
       "      <td>original_title</td>\n",
       "      <td>VARCHAR</td>\n",
       "      <td>0</td>\n",
       "      <td>None</td>\n",
       "      <td>0</td>\n",
       "    </tr>\n",
       "    <tr>\n",
       "      <th>4</th>\n",
       "      <td>4</td>\n",
       "      <td>is_adult</td>\n",
       "      <td>INTEGER</td>\n",
       "      <td>0</td>\n",
       "      <td>None</td>\n",
       "      <td>0</td>\n",
       "    </tr>\n",
       "    <tr>\n",
       "      <th>5</th>\n",
       "      <td>5</td>\n",
       "      <td>premiered</td>\n",
       "      <td>INTEGER</td>\n",
       "      <td>0</td>\n",
       "      <td>None</td>\n",
       "      <td>0</td>\n",
       "    </tr>\n",
       "    <tr>\n",
       "      <th>6</th>\n",
       "      <td>6</td>\n",
       "      <td>ended</td>\n",
       "      <td>INTEGER</td>\n",
       "      <td>0</td>\n",
       "      <td>None</td>\n",
       "      <td>0</td>\n",
       "    </tr>\n",
       "    <tr>\n",
       "      <th>7</th>\n",
       "      <td>7</td>\n",
       "      <td>runtime_minutes</td>\n",
       "      <td>INTEGER</td>\n",
       "      <td>0</td>\n",
       "      <td>None</td>\n",
       "      <td>0</td>\n",
       "    </tr>\n",
       "    <tr>\n",
       "      <th>8</th>\n",
       "      <td>8</td>\n",
       "      <td>genres</td>\n",
       "      <td>VARCHAR</td>\n",
       "      <td>0</td>\n",
       "      <td>None</td>\n",
       "      <td>0</td>\n",
       "    </tr>\n",
       "  </tbody>\n",
       "</table>\n",
       "</div>"
      ],
      "text/plain": [
       "   cid             name     type  notnull dflt_value  pk\n",
       "0    0         title_id  VARCHAR        0       None   1\n",
       "1    1             type  VARCHAR        0       None   0\n",
       "2    2    primary_title  VARCHAR        0       None   0\n",
       "3    3   original_title  VARCHAR        0       None   0\n",
       "4    4         is_adult  INTEGER        0       None   0\n",
       "5    5        premiered  INTEGER        0       None   0\n",
       "6    6            ended  INTEGER        0       None   0\n",
       "7    7  runtime_minutes  INTEGER        0       None   0\n",
       "8    8           genres  VARCHAR        0       None   0"
      ]
     },
     "metadata": {},
     "output_type": "display_data"
    },
    {
     "name": "stdout",
     "output_type": "stream",
     "text": [
      "----------------------------------------------------------------------------------------------------\n",
      "\n",
      "\n",
      "Esquema da tabela: akas\n"
     ]
    },
    {
     "data": {
      "text/html": [
       "<div>\n",
       "<style scoped>\n",
       "    .dataframe tbody tr th:only-of-type {\n",
       "        vertical-align: middle;\n",
       "    }\n",
       "\n",
       "    .dataframe tbody tr th {\n",
       "        vertical-align: top;\n",
       "    }\n",
       "\n",
       "    .dataframe thead th {\n",
       "        text-align: right;\n",
       "    }\n",
       "</style>\n",
       "<table border=\"1\" class=\"dataframe\">\n",
       "  <thead>\n",
       "    <tr style=\"text-align: right;\">\n",
       "      <th></th>\n",
       "      <th>cid</th>\n",
       "      <th>name</th>\n",
       "      <th>type</th>\n",
       "      <th>notnull</th>\n",
       "      <th>dflt_value</th>\n",
       "      <th>pk</th>\n",
       "    </tr>\n",
       "  </thead>\n",
       "  <tbody>\n",
       "    <tr>\n",
       "      <th>0</th>\n",
       "      <td>0</td>\n",
       "      <td>title_id</td>\n",
       "      <td>VARCHAR</td>\n",
       "      <td>0</td>\n",
       "      <td>None</td>\n",
       "      <td>0</td>\n",
       "    </tr>\n",
       "    <tr>\n",
       "      <th>1</th>\n",
       "      <td>1</td>\n",
       "      <td>title</td>\n",
       "      <td>VARCHAR</td>\n",
       "      <td>0</td>\n",
       "      <td>None</td>\n",
       "      <td>0</td>\n",
       "    </tr>\n",
       "    <tr>\n",
       "      <th>2</th>\n",
       "      <td>2</td>\n",
       "      <td>region</td>\n",
       "      <td>VARCHAR</td>\n",
       "      <td>0</td>\n",
       "      <td>None</td>\n",
       "      <td>0</td>\n",
       "    </tr>\n",
       "    <tr>\n",
       "      <th>3</th>\n",
       "      <td>3</td>\n",
       "      <td>language</td>\n",
       "      <td>VARCHAR</td>\n",
       "      <td>0</td>\n",
       "      <td>None</td>\n",
       "      <td>0</td>\n",
       "    </tr>\n",
       "    <tr>\n",
       "      <th>4</th>\n",
       "      <td>4</td>\n",
       "      <td>types</td>\n",
       "      <td>VARCHAR</td>\n",
       "      <td>0</td>\n",
       "      <td>None</td>\n",
       "      <td>0</td>\n",
       "    </tr>\n",
       "    <tr>\n",
       "      <th>5</th>\n",
       "      <td>5</td>\n",
       "      <td>attributes</td>\n",
       "      <td>VARCHAR</td>\n",
       "      <td>0</td>\n",
       "      <td>None</td>\n",
       "      <td>0</td>\n",
       "    </tr>\n",
       "    <tr>\n",
       "      <th>6</th>\n",
       "      <td>6</td>\n",
       "      <td>is_original_title</td>\n",
       "      <td>INTEGER</td>\n",
       "      <td>0</td>\n",
       "      <td>None</td>\n",
       "      <td>0</td>\n",
       "    </tr>\n",
       "  </tbody>\n",
       "</table>\n",
       "</div>"
      ],
      "text/plain": [
       "   cid               name     type  notnull dflt_value  pk\n",
       "0    0           title_id  VARCHAR        0       None   0\n",
       "1    1              title  VARCHAR        0       None   0\n",
       "2    2             region  VARCHAR        0       None   0\n",
       "3    3           language  VARCHAR        0       None   0\n",
       "4    4              types  VARCHAR        0       None   0\n",
       "5    5         attributes  VARCHAR        0       None   0\n",
       "6    6  is_original_title  INTEGER        0       None   0"
      ]
     },
     "metadata": {},
     "output_type": "display_data"
    },
    {
     "name": "stdout",
     "output_type": "stream",
     "text": [
      "----------------------------------------------------------------------------------------------------\n",
      "\n",
      "\n",
      "Esquema da tabela: crew\n"
     ]
    },
    {
     "data": {
      "text/html": [
       "<div>\n",
       "<style scoped>\n",
       "    .dataframe tbody tr th:only-of-type {\n",
       "        vertical-align: middle;\n",
       "    }\n",
       "\n",
       "    .dataframe tbody tr th {\n",
       "        vertical-align: top;\n",
       "    }\n",
       "\n",
       "    .dataframe thead th {\n",
       "        text-align: right;\n",
       "    }\n",
       "</style>\n",
       "<table border=\"1\" class=\"dataframe\">\n",
       "  <thead>\n",
       "    <tr style=\"text-align: right;\">\n",
       "      <th></th>\n",
       "      <th>cid</th>\n",
       "      <th>name</th>\n",
       "      <th>type</th>\n",
       "      <th>notnull</th>\n",
       "      <th>dflt_value</th>\n",
       "      <th>pk</th>\n",
       "    </tr>\n",
       "  </thead>\n",
       "  <tbody>\n",
       "    <tr>\n",
       "      <th>0</th>\n",
       "      <td>0</td>\n",
       "      <td>title_id</td>\n",
       "      <td>VARCHAR</td>\n",
       "      <td>0</td>\n",
       "      <td>None</td>\n",
       "      <td>0</td>\n",
       "    </tr>\n",
       "    <tr>\n",
       "      <th>1</th>\n",
       "      <td>1</td>\n",
       "      <td>person_id</td>\n",
       "      <td>VARCHAR</td>\n",
       "      <td>0</td>\n",
       "      <td>None</td>\n",
       "      <td>0</td>\n",
       "    </tr>\n",
       "    <tr>\n",
       "      <th>2</th>\n",
       "      <td>2</td>\n",
       "      <td>category</td>\n",
       "      <td>VARCHAR</td>\n",
       "      <td>0</td>\n",
       "      <td>None</td>\n",
       "      <td>0</td>\n",
       "    </tr>\n",
       "    <tr>\n",
       "      <th>3</th>\n",
       "      <td>3</td>\n",
       "      <td>job</td>\n",
       "      <td>VARCHAR</td>\n",
       "      <td>0</td>\n",
       "      <td>None</td>\n",
       "      <td>0</td>\n",
       "    </tr>\n",
       "    <tr>\n",
       "      <th>4</th>\n",
       "      <td>4</td>\n",
       "      <td>characters</td>\n",
       "      <td>VARCHAR</td>\n",
       "      <td>0</td>\n",
       "      <td>None</td>\n",
       "      <td>0</td>\n",
       "    </tr>\n",
       "  </tbody>\n",
       "</table>\n",
       "</div>"
      ],
      "text/plain": [
       "   cid        name     type  notnull dflt_value  pk\n",
       "0    0    title_id  VARCHAR        0       None   0\n",
       "1    1   person_id  VARCHAR        0       None   0\n",
       "2    2    category  VARCHAR        0       None   0\n",
       "3    3         job  VARCHAR        0       None   0\n",
       "4    4  characters  VARCHAR        0       None   0"
      ]
     },
     "metadata": {},
     "output_type": "display_data"
    },
    {
     "name": "stdout",
     "output_type": "stream",
     "text": [
      "----------------------------------------------------------------------------------------------------\n",
      "\n",
      "\n",
      "Esquema da tabela: episodes\n"
     ]
    },
    {
     "data": {
      "text/html": [
       "<div>\n",
       "<style scoped>\n",
       "    .dataframe tbody tr th:only-of-type {\n",
       "        vertical-align: middle;\n",
       "    }\n",
       "\n",
       "    .dataframe tbody tr th {\n",
       "        vertical-align: top;\n",
       "    }\n",
       "\n",
       "    .dataframe thead th {\n",
       "        text-align: right;\n",
       "    }\n",
       "</style>\n",
       "<table border=\"1\" class=\"dataframe\">\n",
       "  <thead>\n",
       "    <tr style=\"text-align: right;\">\n",
       "      <th></th>\n",
       "      <th>cid</th>\n",
       "      <th>name</th>\n",
       "      <th>type</th>\n",
       "      <th>notnull</th>\n",
       "      <th>dflt_value</th>\n",
       "      <th>pk</th>\n",
       "    </tr>\n",
       "  </thead>\n",
       "  <tbody>\n",
       "    <tr>\n",
       "      <th>0</th>\n",
       "      <td>0</td>\n",
       "      <td>episode_title_id</td>\n",
       "      <td>INTEGER</td>\n",
       "      <td>0</td>\n",
       "      <td>None</td>\n",
       "      <td>0</td>\n",
       "    </tr>\n",
       "    <tr>\n",
       "      <th>1</th>\n",
       "      <td>1</td>\n",
       "      <td>show_title_id</td>\n",
       "      <td>INTEGER</td>\n",
       "      <td>0</td>\n",
       "      <td>None</td>\n",
       "      <td>0</td>\n",
       "    </tr>\n",
       "    <tr>\n",
       "      <th>2</th>\n",
       "      <td>2</td>\n",
       "      <td>season_number</td>\n",
       "      <td>INTEGER</td>\n",
       "      <td>0</td>\n",
       "      <td>None</td>\n",
       "      <td>0</td>\n",
       "    </tr>\n",
       "    <tr>\n",
       "      <th>3</th>\n",
       "      <td>3</td>\n",
       "      <td>eposide_number</td>\n",
       "      <td>INTEGER</td>\n",
       "      <td>0</td>\n",
       "      <td>None</td>\n",
       "      <td>0</td>\n",
       "    </tr>\n",
       "  </tbody>\n",
       "</table>\n",
       "</div>"
      ],
      "text/plain": [
       "   cid              name     type  notnull dflt_value  pk\n",
       "0    0  episode_title_id  INTEGER        0       None   0\n",
       "1    1     show_title_id  INTEGER        0       None   0\n",
       "2    2     season_number  INTEGER        0       None   0\n",
       "3    3    eposide_number  INTEGER        0       None   0"
      ]
     },
     "metadata": {},
     "output_type": "display_data"
    },
    {
     "name": "stdout",
     "output_type": "stream",
     "text": [
      "----------------------------------------------------------------------------------------------------\n",
      "\n",
      "\n",
      "Esquema da tabela: ratings\n"
     ]
    },
    {
     "data": {
      "text/html": [
       "<div>\n",
       "<style scoped>\n",
       "    .dataframe tbody tr th:only-of-type {\n",
       "        vertical-align: middle;\n",
       "    }\n",
       "\n",
       "    .dataframe tbody tr th {\n",
       "        vertical-align: top;\n",
       "    }\n",
       "\n",
       "    .dataframe thead th {\n",
       "        text-align: right;\n",
       "    }\n",
       "</style>\n",
       "<table border=\"1\" class=\"dataframe\">\n",
       "  <thead>\n",
       "    <tr style=\"text-align: right;\">\n",
       "      <th></th>\n",
       "      <th>cid</th>\n",
       "      <th>name</th>\n",
       "      <th>type</th>\n",
       "      <th>notnull</th>\n",
       "      <th>dflt_value</th>\n",
       "      <th>pk</th>\n",
       "    </tr>\n",
       "  </thead>\n",
       "  <tbody>\n",
       "    <tr>\n",
       "      <th>0</th>\n",
       "      <td>0</td>\n",
       "      <td>title_id</td>\n",
       "      <td>VARCHAR</td>\n",
       "      <td>0</td>\n",
       "      <td>None</td>\n",
       "      <td>1</td>\n",
       "    </tr>\n",
       "    <tr>\n",
       "      <th>1</th>\n",
       "      <td>1</td>\n",
       "      <td>rating</td>\n",
       "      <td>INTEGER</td>\n",
       "      <td>0</td>\n",
       "      <td>None</td>\n",
       "      <td>0</td>\n",
       "    </tr>\n",
       "    <tr>\n",
       "      <th>2</th>\n",
       "      <td>2</td>\n",
       "      <td>votes</td>\n",
       "      <td>INTEGER</td>\n",
       "      <td>0</td>\n",
       "      <td>None</td>\n",
       "      <td>0</td>\n",
       "    </tr>\n",
       "  </tbody>\n",
       "</table>\n",
       "</div>"
      ],
      "text/plain": [
       "   cid      name     type  notnull dflt_value  pk\n",
       "0    0  title_id  VARCHAR        0       None   1\n",
       "1    1    rating  INTEGER        0       None   0\n",
       "2    2     votes  INTEGER        0       None   0"
      ]
     },
     "metadata": {},
     "output_type": "display_data"
    },
    {
     "name": "stdout",
     "output_type": "stream",
     "text": [
      "----------------------------------------------------------------------------------------------------\n",
      "\n",
      "\n"
     ]
    }
   ],
   "source": [
    "# Vamos percorrer a lista de tabelas no banco de dados e extrair o esquema de cada uma\n",
    "for tabela in tabelas:\n",
    "    consulta = \"PRAGMA TABLE_INFO({})\".format(tabela)\n",
    "    resultado = pd.read_sql_query(consulta, conn)\n",
    "    print(\"Esquema da tabela:\", tabela)\n",
    "    display(resultado)\n",
    "    print(\"-\"*100)\n",
    "    print(\"\\n\")"
   ]
  },
  {
   "cell_type": "markdown",
   "metadata": {},
   "source": [
    "> Agora começamos a Análise Exploratória dos Dados."
   ]
  },
  {
   "cell_type": "markdown",
   "metadata": {
    "id": "m6W_XSp3yBSL"
   },
   "source": [
    "## 1- Quais São as Categorias de Filmes Mais Comuns no IMDB?\n",
    "\n",
    "Quais são os principais tipos (categorias) dos títulos (filmes)?"
   ]
  },
  {
   "cell_type": "code",
   "execution_count": 14,
   "metadata": {
    "id": "72tvpOmJGTni"
   },
   "outputs": [],
   "source": [
    "# Cria a consulta SQL\n",
    "consulta1 = '''SELECT type, COUNT(*) AS COUNT FROM titles GROUP BY type''' "
   ]
  },
  {
   "cell_type": "code",
   "execution_count": 15,
   "metadata": {},
   "outputs": [],
   "source": [
    "# Extrai o resultado\n",
    "resultado1 = pd.read_sql_query(consulta1, conn)"
   ]
  },
  {
   "cell_type": "code",
   "execution_count": 16,
   "metadata": {
    "colab": {
     "base_uri": "https://localhost:8080/",
     "height": 343
    },
    "executionInfo": {
     "elapsed": 524,
     "status": "ok",
     "timestamp": 1622092926334,
     "user": {
      "displayName": "Utkarsh Sinha",
      "photoUrl": "",
      "userId": "11911393678467085382"
     },
     "user_tz": -330
    },
    "id": "HYgZRXHyRcK1",
    "outputId": "35c853a5-5780-41ab-f638-35575c8d69fc"
   },
   "outputs": [
    {
     "data": {
      "text/html": [
       "<div>\n",
       "<style scoped>\n",
       "    .dataframe tbody tr th:only-of-type {\n",
       "        vertical-align: middle;\n",
       "    }\n",
       "\n",
       "    .dataframe tbody tr th {\n",
       "        vertical-align: top;\n",
       "    }\n",
       "\n",
       "    .dataframe thead th {\n",
       "        text-align: right;\n",
       "    }\n",
       "</style>\n",
       "<table border=\"1\" class=\"dataframe\">\n",
       "  <thead>\n",
       "    <tr style=\"text-align: right;\">\n",
       "      <th></th>\n",
       "      <th>type</th>\n",
       "      <th>COUNT</th>\n",
       "    </tr>\n",
       "  </thead>\n",
       "  <tbody>\n",
       "    <tr>\n",
       "      <th>0</th>\n",
       "      <td>movie</td>\n",
       "      <td>611283</td>\n",
       "    </tr>\n",
       "    <tr>\n",
       "      <th>1</th>\n",
       "      <td>short</td>\n",
       "      <td>871699</td>\n",
       "    </tr>\n",
       "    <tr>\n",
       "      <th>2</th>\n",
       "      <td>tvEpisode</td>\n",
       "      <td>6726259</td>\n",
       "    </tr>\n",
       "    <tr>\n",
       "      <th>3</th>\n",
       "      <td>tvMiniSeries</td>\n",
       "      <td>43572</td>\n",
       "    </tr>\n",
       "    <tr>\n",
       "      <th>4</th>\n",
       "      <td>tvMovie</td>\n",
       "      <td>136229</td>\n",
       "    </tr>\n",
       "    <tr>\n",
       "      <th>5</th>\n",
       "      <td>tvPilot</td>\n",
       "      <td>2</td>\n",
       "    </tr>\n",
       "    <tr>\n",
       "      <th>6</th>\n",
       "      <td>tvSeries</td>\n",
       "      <td>225680</td>\n",
       "    </tr>\n",
       "    <tr>\n",
       "      <th>7</th>\n",
       "      <td>tvShort</td>\n",
       "      <td>10550</td>\n",
       "    </tr>\n",
       "    <tr>\n",
       "      <th>8</th>\n",
       "      <td>tvSpecial</td>\n",
       "      <td>37111</td>\n",
       "    </tr>\n",
       "    <tr>\n",
       "      <th>9</th>\n",
       "      <td>video</td>\n",
       "      <td>261082</td>\n",
       "    </tr>\n",
       "    <tr>\n",
       "      <th>10</th>\n",
       "      <td>videoGame</td>\n",
       "      <td>31214</td>\n",
       "    </tr>\n",
       "  </tbody>\n",
       "</table>\n",
       "</div>"
      ],
      "text/plain": [
       "            type    COUNT\n",
       "0          movie   611283\n",
       "1          short   871699\n",
       "2      tvEpisode  6726259\n",
       "3   tvMiniSeries    43572\n",
       "4        tvMovie   136229\n",
       "5        tvPilot        2\n",
       "6       tvSeries   225680\n",
       "7        tvShort    10550\n",
       "8      tvSpecial    37111\n",
       "9          video   261082\n",
       "10     videoGame    31214"
      ]
     },
     "metadata": {},
     "output_type": "display_data"
    }
   ],
   "source": [
    "# Visualiza o resultado\n",
    "display(resultado1)"
   ]
  },
  {
   "cell_type": "code",
   "execution_count": 17,
   "metadata": {
    "id": "oUsal5PCh701"
   },
   "outputs": [],
   "source": [
    "# Vamos calcular o percentual para cada tipo\n",
    "resultado1['percentual'] = (resultado1['COUNT'] / resultado1['COUNT'].sum()) * 100"
   ]
  },
  {
   "cell_type": "code",
   "execution_count": 18,
   "metadata": {},
   "outputs": [
    {
     "data": {
      "text/html": [
       "<div>\n",
       "<style scoped>\n",
       "    .dataframe tbody tr th:only-of-type {\n",
       "        vertical-align: middle;\n",
       "    }\n",
       "\n",
       "    .dataframe tbody tr th {\n",
       "        vertical-align: top;\n",
       "    }\n",
       "\n",
       "    .dataframe thead th {\n",
       "        text-align: right;\n",
       "    }\n",
       "</style>\n",
       "<table border=\"1\" class=\"dataframe\">\n",
       "  <thead>\n",
       "    <tr style=\"text-align: right;\">\n",
       "      <th></th>\n",
       "      <th>type</th>\n",
       "      <th>COUNT</th>\n",
       "      <th>percentual</th>\n",
       "    </tr>\n",
       "  </thead>\n",
       "  <tbody>\n",
       "    <tr>\n",
       "      <th>0</th>\n",
       "      <td>movie</td>\n",
       "      <td>611283</td>\n",
       "      <td>6.826407</td>\n",
       "    </tr>\n",
       "    <tr>\n",
       "      <th>1</th>\n",
       "      <td>short</td>\n",
       "      <td>871699</td>\n",
       "      <td>9.734562</td>\n",
       "    </tr>\n",
       "    <tr>\n",
       "      <th>2</th>\n",
       "      <td>tvEpisode</td>\n",
       "      <td>6726259</td>\n",
       "      <td>75.114446</td>\n",
       "    </tr>\n",
       "    <tr>\n",
       "      <th>3</th>\n",
       "      <td>tvMiniSeries</td>\n",
       "      <td>43572</td>\n",
       "      <td>0.486583</td>\n",
       "    </tr>\n",
       "    <tr>\n",
       "      <th>4</th>\n",
       "      <td>tvMovie</td>\n",
       "      <td>136229</td>\n",
       "      <td>1.521316</td>\n",
       "    </tr>\n",
       "    <tr>\n",
       "      <th>5</th>\n",
       "      <td>tvPilot</td>\n",
       "      <td>2</td>\n",
       "      <td>0.000022</td>\n",
       "    </tr>\n",
       "    <tr>\n",
       "      <th>6</th>\n",
       "      <td>tvSeries</td>\n",
       "      <td>225680</td>\n",
       "      <td>2.520246</td>\n",
       "    </tr>\n",
       "    <tr>\n",
       "      <th>7</th>\n",
       "      <td>tvShort</td>\n",
       "      <td>10550</td>\n",
       "      <td>0.117815</td>\n",
       "    </tr>\n",
       "    <tr>\n",
       "      <th>8</th>\n",
       "      <td>tvSpecial</td>\n",
       "      <td>37111</td>\n",
       "      <td>0.414431</td>\n",
       "    </tr>\n",
       "    <tr>\n",
       "      <th>9</th>\n",
       "      <td>video</td>\n",
       "      <td>261082</td>\n",
       "      <td>2.915592</td>\n",
       "    </tr>\n",
       "    <tr>\n",
       "      <th>10</th>\n",
       "      <td>videoGame</td>\n",
       "      <td>31214</td>\n",
       "      <td>0.348577</td>\n",
       "    </tr>\n",
       "  </tbody>\n",
       "</table>\n",
       "</div>"
      ],
      "text/plain": [
       "            type    COUNT  percentual\n",
       "0          movie   611283    6.826407\n",
       "1          short   871699    9.734562\n",
       "2      tvEpisode  6726259   75.114446\n",
       "3   tvMiniSeries    43572    0.486583\n",
       "4        tvMovie   136229    1.521316\n",
       "5        tvPilot        2    0.000022\n",
       "6       tvSeries   225680    2.520246\n",
       "7        tvShort    10550    0.117815\n",
       "8      tvSpecial    37111    0.414431\n",
       "9          video   261082    2.915592\n",
       "10     videoGame    31214    0.348577"
      ]
     },
     "metadata": {},
     "output_type": "display_data"
    }
   ],
   "source": [
    "# Visualiza o resultado\n",
    "display(resultado1)"
   ]
  },
  {
   "cell_type": "code",
   "execution_count": 19,
   "metadata": {
    "id": "oWJrmfjHyBpW"
   },
   "outputs": [],
   "source": [
    "# Vamos criar um gráfico com apenas 4 categorias:\n",
    "# As 3 categorias com mais títulos e 1 categoria com todo o restante\n",
    "\n",
    "# Cria um dicionário vazio\n",
    "others = {}\n",
    "\n",
    "# Filtra o percentual em 5% e soma o total\n",
    "others['COUNT'] = resultado1[resultado1['percentual'] < 5]['COUNT'].sum()\n",
    "\n",
    "# Grava o percentual\n",
    "others['percentual'] = resultado1[resultado1['percentual'] < 5]['percentual'].sum()\n",
    "\n",
    "# Ajusta o nome\n",
    "others['type'] = 'others'"
   ]
  },
  {
   "cell_type": "code",
   "execution_count": 20,
   "metadata": {},
   "outputs": [
    {
     "data": {
      "text/plain": [
       "{'COUNT': 745440, 'percentual': 8.324584650195801, 'type': 'others'}"
      ]
     },
     "execution_count": 20,
     "metadata": {},
     "output_type": "execute_result"
    }
   ],
   "source": [
    "# Visualiza\n",
    "others"
   ]
  },
  {
   "cell_type": "code",
   "execution_count": 21,
   "metadata": {
    "id": "H7WDZkbeyHz7"
   },
   "outputs": [],
   "source": [
    "# Filtra o dataframe de resultado\n",
    "resultado1 = resultado1[resultado1['percentual'] > 5]"
   ]
  },
  {
   "cell_type": "code",
   "execution_count": 22,
   "metadata": {},
   "outputs": [],
   "source": [
    "# Append com o dataframe de outras categorias\n",
    "resultado1 = resultado1.append(others, ignore_index = True)"
   ]
  },
  {
   "cell_type": "code",
   "execution_count": 23,
   "metadata": {
    "id": "K5mJGmqMyMaf"
   },
   "outputs": [],
   "source": [
    "# Ordena o resultado\n",
    "resultado1 = resultado1.sort_values(by = 'COUNT', ascending = False)"
   ]
  },
  {
   "cell_type": "code",
   "execution_count": 24,
   "metadata": {},
   "outputs": [
    {
     "data": {
      "text/html": [
       "<div>\n",
       "<style scoped>\n",
       "    .dataframe tbody tr th:only-of-type {\n",
       "        vertical-align: middle;\n",
       "    }\n",
       "\n",
       "    .dataframe tbody tr th {\n",
       "        vertical-align: top;\n",
       "    }\n",
       "\n",
       "    .dataframe thead th {\n",
       "        text-align: right;\n",
       "    }\n",
       "</style>\n",
       "<table border=\"1\" class=\"dataframe\">\n",
       "  <thead>\n",
       "    <tr style=\"text-align: right;\">\n",
       "      <th></th>\n",
       "      <th>type</th>\n",
       "      <th>COUNT</th>\n",
       "      <th>percentual</th>\n",
       "    </tr>\n",
       "  </thead>\n",
       "  <tbody>\n",
       "    <tr>\n",
       "      <th>2</th>\n",
       "      <td>tvEpisode</td>\n",
       "      <td>6726259</td>\n",
       "      <td>75.114446</td>\n",
       "    </tr>\n",
       "    <tr>\n",
       "      <th>1</th>\n",
       "      <td>short</td>\n",
       "      <td>871699</td>\n",
       "      <td>9.734562</td>\n",
       "    </tr>\n",
       "    <tr>\n",
       "      <th>3</th>\n",
       "      <td>others</td>\n",
       "      <td>745440</td>\n",
       "      <td>8.324585</td>\n",
       "    </tr>\n",
       "    <tr>\n",
       "      <th>0</th>\n",
       "      <td>movie</td>\n",
       "      <td>611283</td>\n",
       "      <td>6.826407</td>\n",
       "    </tr>\n",
       "  </tbody>\n",
       "</table>\n",
       "</div>"
      ],
      "text/plain": [
       "        type    COUNT  percentual\n",
       "2  tvEpisode  6726259   75.114446\n",
       "1      short   871699    9.734562\n",
       "3     others   745440    8.324585\n",
       "0      movie   611283    6.826407"
      ]
     },
     "execution_count": 24,
     "metadata": {},
     "output_type": "execute_result"
    }
   ],
   "source": [
    "# Visualiza\n",
    "resultado1.head()"
   ]
  },
  {
   "cell_type": "code",
   "execution_count": 26,
   "metadata": {},
   "outputs": [],
   "source": [
    "# Ajusta os labels\n",
    "labels = [str(resultado1['type'][i])+' '+'['+str(round(resultado1['percentual'][i],2)) +'%'+']' for i in resultado1.index]"
   ]
  },
  {
   "cell_type": "code",
   "execution_count": 27,
   "metadata": {
    "colab": {
     "base_uri": "https://localhost:8080/",
     "height": 559
    },
    "executionInfo": {
     "elapsed": 7,
     "status": "ok",
     "timestamp": 1621950718639,
     "user": {
      "displayName": "Utkarsh Sinha",
      "photoUrl": "",
      "userId": "11911393678467085382"
     },
     "user_tz": -330
    },
    "id": "2_ugTEy_HmoQ",
    "outputId": "2ea6ea27-e942-4dbf-e358-3305cf88147a"
   },
   "outputs": [
    {
     "data": {
      "image/png": "[encoded data removed]",
      "text/plain": [
       "<Figure size 432x288 with 1 Axes>"
      ]
     },
     "metadata": {},
     "output_type": "display_data"
    }
   ],
   "source": [
    "# Plot\n",
    "\n",
    "# Mapa de cores\n",
    "# https://matplotlib.org/stable/tutorials/colors/colormaps.html\n",
    "cs = cm.Set3(np.arange(100))\n",
    "\n",
    "# Cria a figura\n",
    "f = plt.figure()\n",
    "\n",
    "# Pie Plot\n",
    "plt.pie(resultado1['COUNT'], labeldistance = 1, radius = 3, colors = cs, wedgeprops = dict(width = 0.8))\n",
    "plt.legend(labels = labels, loc = 'center', prop = {'size':12})\n",
    "plt.title(\"Distribuição de Títulos\", loc = 'Center', fontdict = {'fontsize':20,'fontweight':20})\n",
    "plt.show()"
   ]
  },
  {
   "cell_type": "markdown",
   "metadata": {
    "id": "CWF1erMywd2w"
   },
   "source": [
    "## 2- Qual o Número de Títulos Por Gênero?\n",
    "\n",
    "Vamos calcular o número de filmes por gênero e entregar o resultado em valor percentual."
   ]
  },
  {
   "cell_type": "code",
   "execution_count": null,
   "metadata": {
    "colab": {
     "base_uri": "https://localhost:8080/",
     "height": 402
    },
    "executionInfo": {
     "elapsed": 1092,
     "status": "ok",
     "timestamp": 1622093994891,
     "user": {
      "displayName": "Utkarsh Sinha",
      "photoUrl": "",
      "userId": "11911393678467085382"
     },
     "user_tz": -330
    },
    "id": "1oY3-f_ulQmh",
    "outputId": "1c747b58-7a65-48e3-c88d-d4d4641eb983"
   },
   "outputs": [],
   "source": [
    "# Cria a consulta SQL\n",
    "consulta2 = '''SELECT genres, COUNT(*) FROM titles WHERE type = 'movie' GROUP BY genres''' "
   ]
  },
  {
   "cell_type": "code",
   "execution_count": null,
   "metadata": {},
   "outputs": [],
   "source": [
    "# Resultado\n",
    "resultado2 = pd.read_sql_query(consulta2, conn)"
   ]
  },
  {
   "cell_type": "code",
   "execution_count": null,
   "metadata": {},
   "outputs": [],
   "source": [
    "# Visualiza o resultado\n",
    "display(resultado2)"
   ]
  },
  {
   "cell_type": "code",
   "execution_count": null,
   "metadata": {
    "id": "N_4ONbrYwEgW"
   },
   "outputs": [],
   "source": [
    "# Converte as strings para minúsculo\n",
    "resultado2['genres'] = resultado2['genres'].str.lower().values"
   ]
  },
  {
   "cell_type": "code",
   "execution_count": null,
   "metadata": {},
   "outputs": [],
   "source": [
    "# Remove valores NA (ausentes)\n",
    "temp = resultado2['genres'].dropna()"
   ]
  },
  {
   "cell_type": "markdown",
   "metadata": {},
   "source": [
    "Usamos o Countvectorizer para converter a coluna de gêneros em um vetor one-hot encoded para contar o número de filmes em cada gênero.\n",
    "\n",
    "![title](imagens/one-hot.png)"
   ]
  },
  {
   "cell_type": "code",
   "execution_count": null,
   "metadata": {},
   "outputs": [],
   "source": [
    "# Vamos criar um vetor usando expressão regular para filtrar as strings\n",
    "\n",
    "# https://docs.python.org/3.8/library/re.html\n",
    "padrao = '(?u)\\\\b[\\\\w-]+\\\\b'\n",
    "\n",
    "# https://scikit-learn.org/stable/modules/generated/sklearn.feature_extraction.text.CountVectorizer.html\n",
    "vetor = CountVectorizer(token_pattern = padrao, analyzer = 'word').fit(temp)"
   ]
  },
  {
   "cell_type": "code",
   "execution_count": null,
   "metadata": {},
   "outputs": [],
   "source": [
    "type(vetor)"
   ]
  },
  {
   "cell_type": "code",
   "execution_count": null,
   "metadata": {},
   "outputs": [],
   "source": [
    "# Aplica a vetorização ao dataset sem valores NA\n",
    "bag_generos = vetor.transform(temp)"
   ]
  },
  {
   "cell_type": "code",
   "execution_count": null,
   "metadata": {},
   "outputs": [],
   "source": [
    "type(bag_generos)"
   ]
  },
  {
   "cell_type": "code",
   "execution_count": null,
   "metadata": {},
   "outputs": [],
   "source": [
    "# Retorna gêneros únicos\n",
    "generos_unicos =  vetor.get_feature_names()"
   ]
  },
  {
   "cell_type": "code",
   "execution_count": null,
   "metadata": {
    "colab": {
     "base_uri": "https://localhost:8080/",
     "height": 497
    },
    "executionInfo": {
     "elapsed": 838,
     "status": "ok",
     "timestamp": 1622094003105,
     "user": {
      "displayName": "Utkarsh Sinha",
      "photoUrl": "",
      "userId": "11911393678467085382"
     },
     "user_tz": -330
    },
    "id": "C_HTLQkbl4r8",
    "outputId": "fe7d141d-a1d6-4dde-8072-ad4cae478ec8"
   },
   "outputs": [],
   "source": [
    "# Cria o dataframe de gêneros\n",
    "generos = pd.DataFrame(bag_generos.todense(), columns = generos_unicos, index = temp.index)"
   ]
  },
  {
   "cell_type": "code",
   "execution_count": null,
   "metadata": {},
   "outputs": [],
   "source": [
    "# Visualiza\n",
    "generos.info()"
   ]
  },
  {
   "cell_type": "code",
   "execution_count": null,
   "metadata": {},
   "outputs": [],
   "source": [
    "# Drop da coluna n\n",
    "generos = generos.drop(columns = 'n', axis = 0)"
   ]
  },
  {
   "cell_type": "code",
   "execution_count": null,
   "metadata": {},
   "outputs": [],
   "source": [
    "# Calcula o percentual\n",
    "generos_percentual = 100 * pd.Series(generos.sum()).sort_values(ascending = False) / generos.shape[0]"
   ]
  },
  {
   "cell_type": "code",
   "execution_count": null,
   "metadata": {},
   "outputs": [],
   "source": [
    "# Visualiza\n",
    "generos_percentual.head(10)"
   ]
  },
  {
   "cell_type": "code",
   "execution_count": null,
   "metadata": {},
   "outputs": [],
   "source": [
    "# Plot\n",
    "plt.figure(figsize = (16,8))\n",
    "sns.barplot(x = generos_percentual.values, y = generos_percentual.index, orient = \"h\", palette = \"terrain\")\n",
    "plt.ylabel('Gênero')             \n",
    "plt.xlabel(\"\\nPercentual de Filmes (%)\")\n",
    "plt.title('\\nNúmero (Percentual) de Títulos Por Gênero\\n')\n",
    "plt.show()"
   ]
  },
  {
   "cell_type": "markdown",
   "metadata": {
    "id": "jRKl5x8YxoXO"
   },
   "source": [
    "## 3- Qual a Mediana de Avaliação dos Filmes Por Gênero?\n",
    "\n",
    "Mediana de avaliação dos filmes."
   ]
  },
  {
   "cell_type": "code",
   "execution_count": null,
   "metadata": {
    "id": "H6UC4vtt0QQG"
   },
   "outputs": [],
   "source": [
    "# Consulta SQL\n",
    "consulta3 = '''\n",
    "            SELECT rating, genres FROM \n",
    "            ratings JOIN titles ON ratings.title_id = titles.title_id \n",
    "            WHERE premiered <= 2022 AND type = 'movie'\n",
    "            ''' "
   ]
  },
  {
   "cell_type": "code",
   "execution_count": null,
   "metadata": {},
   "outputs": [],
   "source": [
    "# Resultado\n",
    "resultado3 = pd.read_sql_query(consulta3, conn)"
   ]
  },
  {
   "cell_type": "code",
   "execution_count": null,
   "metadata": {},
   "outputs": [],
   "source": [
    "# Visualiza\n",
    "display(resultado3)"
   ]
  },
  {
   "cell_type": "code",
   "execution_count": null,
   "metadata": {
    "id": "W0JWWH6Y19SU"
   },
   "outputs": [],
   "source": [
    "# Vamos criar uma função para retornar os genêros\n",
    "def retorna_generos(df):\n",
    "    df['genres'] = df['genres'].str.lower().values\n",
    "    temp = df['genres'].dropna()\n",
    "    vetor = CountVectorizer(token_pattern = '(?u)\\\\b[\\\\w-]+\\\\b', analyzer = 'word').fit(temp)\n",
    "    generos_unicos =  vetor.get_feature_names()\n",
    "    generos_unicos = [genre for genre in generos_unicos if len(genre) > 1]\n",
    "    return generos_unicos"
   ]
  },
  {
   "cell_type": "code",
   "execution_count": null,
   "metadata": {},
   "outputs": [],
   "source": [
    "# Aplica a função\n",
    "generos_unicos = retorna_generos(resultado3)"
   ]
  },
  {
   "cell_type": "code",
   "execution_count": null,
   "metadata": {},
   "outputs": [],
   "source": [
    "# Visualiza\n",
    "generos_unicos"
   ]
  },
  {
   "cell_type": "code",
   "execution_count": null,
   "metadata": {},
   "outputs": [],
   "source": [
    "# Cria listas vazias\n",
    "genero_counts = []\n",
    "genero_ratings = []"
   ]
  },
  {
   "cell_type": "code",
   "execution_count": null,
   "metadata": {
    "id": "Iggq_inu9QJz"
   },
   "outputs": [],
   "source": [
    "# Loop\n",
    "for item in generos_unicos:\n",
    "    \n",
    "    # Retorna a contagem de filmes por gênero\n",
    "    consulta = 'SELECT COUNT(rating) FROM ratings JOIN titles ON ratings.title_id=titles.title_id WHERE genres LIKE '+ '\\''+'%'+item+'%'+'\\' AND type=\\'movie\\''\n",
    "    resultado = pd.read_sql_query(consulta, conn)\n",
    "    genero_counts.append(resultado.values[0][0])\n",
    "  \n",
    "     # Retorna a avaliação de filmes por gênero\n",
    "    consulta = 'SELECT rating FROM ratings JOIN titles ON ratings.title_id=titles.title_id WHERE genres LIKE '+ '\\''+'%'+item+'%'+'\\' AND type=\\'movie\\''\n",
    "    resultado = pd.read_sql_query(consulta, conn)\n",
    "    genero_ratings.append(np.median(resultado['rating']))"
   ]
  },
  {
   "cell_type": "code",
   "execution_count": null,
   "metadata": {
    "id": "E4lGTLpfQStn"
   },
   "outputs": [],
   "source": [
    "# Prepara o dataframe final\n",
    "df_genero_ratings = pd.DataFrame()\n",
    "df_genero_ratings['genres'] = generos_unicos\n",
    "df_genero_ratings['count'] = genero_counts\n",
    "df_genero_ratings['rating'] = genero_ratings"
   ]
  },
  {
   "cell_type": "code",
   "execution_count": null,
   "metadata": {},
   "outputs": [],
   "source": [
    "# Visualiza\n",
    "df_genero_ratings.head(20)"
   ]
  },
  {
   "cell_type": "code",
   "execution_count": null,
   "metadata": {
    "id": "h0voA1yQQ_80"
   },
   "outputs": [],
   "source": [
    "# Drop do índice 18 (news)\n",
    "# Não queremos essa informação como gênero\n",
    "df_genero_ratings = df_genero_ratings.drop(index = 18)"
   ]
  },
  {
   "cell_type": "code",
   "execution_count": null,
   "metadata": {
    "id": "C2d5HNJITbaG"
   },
   "outputs": [],
   "source": [
    "# Ordena o resultado\n",
    "df_genero_ratings = df_genero_ratings.sort_values(by = 'rating', ascending = False)"
   ]
  },
  {
   "cell_type": "code",
   "execution_count": null,
   "metadata": {
    "colab": {
     "base_uri": "https://localhost:8080/",
     "height": 497
    },
    "executionInfo": {
     "elapsed": 2327,
     "status": "ok",
     "timestamp": 1622094283855,
     "user": {
      "displayName": "Utkarsh Sinha",
      "photoUrl": "",
      "userId": "11911393678467085382"
     },
     "user_tz": -330
    },
    "id": "MSrgVMHuUAAV",
    "outputId": "cd8a7363-3fab-42c7-eea3-c734e621904b"
   },
   "outputs": [],
   "source": [
    "# Plot\n",
    "\n",
    "# Figura\n",
    "plt.figure(figsize = (16,10))\n",
    "\n",
    "# Barplot\n",
    "sns.barplot(y = df_genero_ratings.genres, x = df_genero_ratings.rating, orient = \"h\")\n",
    "\n",
    "# Textos do gráfico\n",
    "for i in range(len(df_genero_ratings.index)):\n",
    "    \n",
    "    plt.text(4.0, \n",
    "             i + 0.25, \n",
    "             str(df_genero_ratings['count'][df_genero_ratings.index[i]]) + \" filmes\")\n",
    "    \n",
    "    plt.text(df_genero_ratings.rating[df_genero_ratings.index[i]],\n",
    "             i + 0.25,\n",
    "             round(df_genero_ratings[\"rating\"][df_genero_ratings.index[i]],2))\n",
    "\n",
    "plt.ylabel('Gênero')             \n",
    "plt.xlabel('Mediana da Avaliação')\n",
    "plt.title('\\nMediana de Avaliação Por Gênero\\n')\n",
    "plt.show()"
   ]
  },
  {
   "cell_type": "markdown",
   "metadata": {
    "id": "V4RFdmlvsbgQ"
   },
   "source": [
    "## 4- Qual a Mediana de Avaliação dos Filmes Em Relação ao Ano de Estréia?\n",
    "\n",
    "Mediana de avaliação dos filmes."
   ]
  },
  {
   "cell_type": "code",
   "execution_count": null,
   "metadata": {
    "colab": {
     "base_uri": "https://localhost:8080/",
     "height": 402
    },
    "executionInfo": {
     "elapsed": 1283,
     "status": "ok",
     "timestamp": 1622094463416,
     "user": {
      "displayName": "Utkarsh Sinha",
      "photoUrl": "",
      "userId": "11911393678467085382"
     },
     "user_tz": -330
    },
    "id": "D7ZoVPJip0eA",
    "outputId": "8ab5db2f-ccd4-49c0-8eba-0da45d2e9812"
   },
   "outputs": [],
   "source": [
    "# Consulta SQL\n",
    "consulta4 = '''\n",
    "            SELECT rating AS Rating, premiered FROM \n",
    "            ratings JOIN titles ON ratings.title_id = titles.title_id \n",
    "            WHERE premiered <= 2022 AND type = 'movie'\n",
    "            ORDER BY premiered\n",
    "            ''' "
   ]
  },
  {
   "cell_type": "code",
   "execution_count": null,
   "metadata": {},
   "outputs": [],
   "source": [
    "# Resultado\n",
    "resultado4 = pd.read_sql_query(consulta4, conn)"
   ]
  },
  {
   "cell_type": "code",
   "execution_count": null,
   "metadata": {},
   "outputs": [],
   "source": [
    "display(resultado4)"
   ]
  },
  {
   "cell_type": "code",
   "execution_count": null,
   "metadata": {
    "id": "MC6R8jw-XWZj"
   },
   "outputs": [],
   "source": [
    "# Calculamos a mediana ao longo do tempo (anos)\n",
    "ratings = []\n",
    "for year in set(resultado4['premiered']):\n",
    "    ratings.append(np.median(resultado4[resultado4['premiered'] == year]['Rating']))"
   ]
  },
  {
   "cell_type": "code",
   "execution_count": null,
   "metadata": {},
   "outputs": [],
   "source": [
    "type(ratings)"
   ]
  },
  {
   "cell_type": "code",
   "execution_count": null,
   "metadata": {},
   "outputs": [],
   "source": [
    "ratings[1:10]"
   ]
  },
  {
   "cell_type": "code",
   "execution_count": null,
   "metadata": {
    "id": "VV_YECfDYLkU"
   },
   "outputs": [],
   "source": [
    "# Lista de anos\n",
    "anos = list(set(resultado4['premiered']))"
   ]
  },
  {
   "cell_type": "code",
   "execution_count": null,
   "metadata": {},
   "outputs": [],
   "source": [
    "anos[1:10]"
   ]
  },
  {
   "cell_type": "code",
   "execution_count": null,
   "metadata": {
    "colab": {
     "base_uri": "https://localhost:8080/",
     "height": 513
    },
    "executionInfo": {
     "elapsed": 830,
     "status": "ok",
     "timestamp": 1622094760127,
     "user": {
      "displayName": "Utkarsh Sinha",
      "photoUrl": "",
      "userId": "11911393678467085382"
     },
     "user_tz": -330
    },
    "id": "o-DcxevEspQQ",
    "outputId": "e3770997-6254-4e5c-a60f-e8cc665e9674"
   },
   "outputs": [],
   "source": [
    "# Plot\n",
    "plt.figure(figsize = (16,8))\n",
    "plt.plot(anos, ratings)\n",
    "plt.xlabel('\\nAno')\n",
    "plt.ylabel('Mediana de Avaliação')\n",
    "plt.title('\\nMediana de Avaliação dos Filmes Em Relação ao Ano de Estréia\\n')\n",
    "plt.show()"
   ]
  },
  {
   "cell_type": "markdown",
   "metadata": {
    "id": "2F2Dmji2xR9v"
   },
   "source": [
    "## 5- Qual o Número de Filmes Avaliados Por Gênero Em Relação ao Ano de Estréia?\n",
    "\n",
    "Número de filmes por gênero. Vamos listar os Top 5."
   ]
  },
  {
   "cell_type": "code",
   "execution_count": null,
   "metadata": {
    "id": "eHdCbIyDm10W"
   },
   "outputs": [],
   "source": [
    "# Consulta SQL\n",
    "consulta5 = '''SELECT genres FROM titles ''' "
   ]
  },
  {
   "cell_type": "code",
   "execution_count": null,
   "metadata": {},
   "outputs": [],
   "source": [
    "# Resultado\n",
    "resultado5 = pd.read_sql_query(consulta5, conn)"
   ]
  },
  {
   "cell_type": "code",
   "execution_count": null,
   "metadata": {},
   "outputs": [],
   "source": [
    "display(resultado5)"
   ]
  },
  {
   "cell_type": "code",
   "execution_count": null,
   "metadata": {
    "id": "3l9aiHCLvI5S"
   },
   "outputs": [],
   "source": [
    "# Retorna gêneros únicos\n",
    "generos_unicos = retorna_generos(resultado5)"
   ]
  },
  {
   "cell_type": "code",
   "execution_count": null,
   "metadata": {},
   "outputs": [],
   "source": [
    "# Visualiza o resultado\n",
    "generos_unicos"
   ]
  },
  {
   "cell_type": "code",
   "execution_count": null,
   "metadata": {
    "id": "IvXAi1HGf7X8"
   },
   "outputs": [],
   "source": [
    "# Agora fazemos a contagem\n",
    "genero_count = []\n",
    "for item in generos_unicos:\n",
    "    consulta = 'SELECT COUNT(*) COUNT FROM  titles  WHERE genres LIKE '+ '\\''+'%'+item+'%'+'\\' AND type=\\'movie\\' AND premiered <= 2022'\n",
    "    resultado = pd.read_sql_query(consulta, conn)\n",
    "    genero_count.append(resultado['COUNT'].values[0])"
   ]
  },
  {
   "cell_type": "code",
   "execution_count": null,
   "metadata": {
    "id": "6ASveNmFf9aI"
   },
   "outputs": [],
   "source": [
    "# Prepara o dataframe\n",
    "df_genero_count = pd.DataFrame()\n",
    "df_genero_count['genre'] = generos_unicos\n",
    "df_genero_count['Count'] = genero_count"
   ]
  },
  {
   "cell_type": "code",
   "execution_count": null,
   "metadata": {
    "id": "938c_uY-kDiW"
   },
   "outputs": [],
   "source": [
    "# Calcula os top 5\n",
    "df_genero_count = df_genero_count[df_genero_count['genre'] != 'n']\n",
    "df_genero_count = df_genero_count.sort_values(by = 'Count', ascending = False)\n",
    "top_generos = df_genero_count.head()['genre'].values"
   ]
  },
  {
   "cell_type": "code",
   "execution_count": null,
   "metadata": {
    "colab": {
     "base_uri": "https://localhost:8080/",
     "height": 499
    },
    "executionInfo": {
     "elapsed": 4708,
     "status": "ok",
     "timestamp": 1621951784338,
     "user": {
      "displayName": "Utkarsh Sinha",
      "photoUrl": "",
      "userId": "11911393678467085382"
     },
     "user_tz": -330
    },
    "id": "8aP0rOP0mBh_",
    "outputId": "8604eb15-1809-48e6-9772-6e5c34e0624c"
   },
   "outputs": [],
   "source": [
    "# Plot\n",
    "\n",
    "# Figura\n",
    "plt.figure(figsize = (16,8))\n",
    "\n",
    "# Loop e Plot\n",
    "for item in top_generos:\n",
    "    consulta = 'SELECT COUNT(*) Number_of_movies, premiered Year FROM  titles  WHERE genres LIKE '+ '\\''+'%'+item+'%'+'\\' AND type=\\'movie\\' AND Year <=2022 GROUP BY Year'\n",
    "    resultado = pd.read_sql_query(consulta, conn)\n",
    "    plt.plot(resultado['Year'], resultado['Number_of_movies'])\n",
    "\n",
    "plt.xlabel('\\nAno')\n",
    "plt.ylabel('Número de Filmes Avaliados')\n",
    "plt.title('\\nNúmero de Filmes Avaliados Por Gênero Em Relação ao Ano de Estréia\\n')\n",
    "plt.legend(labels = top_generos)\n",
    "plt.show()"
   ]
  },
  {
   "cell_type": "markdown",
   "metadata": {
    "id": "9U6CKRVVzF5O"
   },
   "source": [
    "## 6- Qual o Filme Com Maior Tempo de Duração? Calcule os Percentis.\n",
    "\n",
    "Percentis e filme mais longo da história."
   ]
  },
  {
   "cell_type": "code",
   "execution_count": null,
   "metadata": {
    "id": "0emEVWQcZAkB"
   },
   "outputs": [],
   "source": [
    "# Consulta SQL\n",
    "consulta6 = '''\n",
    "            SELECT runtime_minutes Runtime \n",
    "            FROM titles \n",
    "            WHERE type = 'movie' AND Runtime != 'NaN'\n",
    "            ''' "
   ]
  },
  {
   "cell_type": "code",
   "execution_count": null,
   "metadata": {},
   "outputs": [],
   "source": [
    "# Resultado\n",
    "resultado6 = pd.read_sql_query(consulta6, conn)"
   ]
  },
  {
   "cell_type": "code",
   "execution_count": null,
   "metadata": {},
   "outputs": [],
   "source": [
    "display(resultado6)"
   ]
  },
  {
   "cell_type": "code",
   "execution_count": null,
   "metadata": {
    "colab": {
     "base_uri": "https://localhost:8080/"
    },
    "executionInfo": {
     "elapsed": 15,
     "status": "ok",
     "timestamp": 1622095194538,
     "user": {
      "displayName": "Utkarsh Sinha",
      "photoUrl": "",
      "userId": "11911393678467085382"
     },
     "user_tz": -330
    },
    "id": "TTu1QGec4wgb",
    "outputId": "3d8b9dc8-0d36-4e76-bbed-706aacb02b0d"
   },
   "outputs": [],
   "source": [
    "# Loop para cálculo dos percentis\n",
    "for i in range(101): \n",
    "    val = i\n",
    "    perc = round(np.percentile(resultado6['Runtime'].values, val), 2)\n",
    "    print('{} percentil da duração (runtime) é: {}'.format(val, perc))"
   ]
  },
  {
   "cell_type": "code",
   "execution_count": null,
   "metadata": {
    "id": "QsG590nIag_h"
   },
   "outputs": [],
   "source": [
    "# Refazendo a consulta e retornando o filme com maior duração\n",
    "consulta6 = '''\n",
    "            SELECT runtime_minutes Runtime, primary_title\n",
    "            FROM titles \n",
    "            WHERE type = 'movie' AND Runtime != 'NaN'\n",
    "            ORDER BY Runtime DESC\n",
    "            LIMIT 1\n",
    "            ''' "
   ]
  },
  {
   "cell_type": "code",
   "execution_count": null,
   "metadata": {},
   "outputs": [],
   "source": [
    "resultado6 = pd.read_sql_query(consulta6, conn)"
   ]
  },
  {
   "cell_type": "code",
   "execution_count": null,
   "metadata": {
    "colab": {
     "base_uri": "https://localhost:8080/",
     "height": 77
    },
    "executionInfo": {
     "elapsed": 22,
     "status": "ok",
     "timestamp": 1622095429610,
     "user": {
      "displayName": "Utkarsh Sinha",
      "photoUrl": "",
      "userId": "11911393678467085382"
     },
     "user_tz": -330
    },
    "id": "GiXWo7tBaqhZ",
    "outputId": "ae7656fe-6ba5-43dd-d4ae-5a39cac5b120"
   },
   "outputs": [],
   "source": [
    "resultado6"
   ]
  },
  {
   "cell_type": "markdown",
   "metadata": {
    "id": "Ho17U3IbcieL"
   },
   "source": [
    "'Logistics' é o filme mais longo da história (até este momento), com 857 horas (51420 minutos). Dirigido por Daniel Andersson e Erika Magnusson, o filme acompanha todo o ciclo de vida de um pedômetro (dispositivo de rastreamento de passos) em ordem cronológica reversa."
   ]
  },
  {
   "cell_type": "markdown",
   "metadata": {
    "id": "Z4O4rDdHy7oO"
   },
   "source": [
    "## 7- Qual a Relação Entre Duração e Gênero?\n",
    "\n",
    "Relação entre duração do filme e gênero."
   ]
  },
  {
   "cell_type": "code",
   "execution_count": null,
   "metadata": {
    "id": "0kc8MHtUledj"
   },
   "outputs": [],
   "source": [
    "# Consulta SQL\n",
    "consulta7 = '''\n",
    "            SELECT AVG(runtime_minutes) Runtime, genres \n",
    "            FROM titles \n",
    "            WHERE type = 'movie'\n",
    "            AND runtime_minutes != 'NaN'\n",
    "            GROUP BY genres\n",
    "            ''' "
   ]
  },
  {
   "cell_type": "code",
   "execution_count": null,
   "metadata": {},
   "outputs": [],
   "source": [
    "# Resultado\n",
    "resultado7 = pd.read_sql_query(consulta7, conn)"
   ]
  },
  {
   "cell_type": "code",
   "execution_count": null,
   "metadata": {
    "id": "0rzN-DAm5mwA"
   },
   "outputs": [],
   "source": [
    "# Retorna gêneros únicos\n",
    "generos_unicos = retorna_generos(resultado7)"
   ]
  },
  {
   "cell_type": "code",
   "execution_count": null,
   "metadata": {},
   "outputs": [],
   "source": [
    "# Visualiza\n",
    "generos_unicos"
   ]
  },
  {
   "cell_type": "code",
   "execution_count": null,
   "metadata": {
    "id": "8f79NjxwEdA4"
   },
   "outputs": [],
   "source": [
    "# Calcula duração por gênero\n",
    "genero_runtime = []\n",
    "for item in generos_unicos:\n",
    "    consulta = 'SELECT runtime_minutes Runtime FROM  titles  WHERE genres LIKE '+ '\\''+'%'+item+'%'+'\\' AND type=\\'movie\\' AND Runtime!=\\'NaN\\''\n",
    "    resultado = pd.read_sql_query(consulta, conn)\n",
    "    genero_runtime.append(np.median(resultado['Runtime']))"
   ]
  },
  {
   "cell_type": "code",
   "execution_count": null,
   "metadata": {
    "id": "bW5jRTqyG5s1"
   },
   "outputs": [],
   "source": [
    "# Prepara o dataframe\n",
    "df_genero_runtime = pd.DataFrame()\n",
    "df_genero_runtime['genre'] = generos_unicos\n",
    "df_genero_runtime['runtime'] = genero_runtime"
   ]
  },
  {
   "cell_type": "code",
   "execution_count": null,
   "metadata": {
    "id": "q03CMhQwHTXs"
   },
   "outputs": [],
   "source": [
    "# Remove índice 18 (news)\n",
    "df_genero_runtime = df_genero_runtime.drop(index = 18)"
   ]
  },
  {
   "cell_type": "code",
   "execution_count": null,
   "metadata": {
    "id": "xa6O1pozHfEH"
   },
   "outputs": [],
   "source": [
    "# Ordena os dados\n",
    "df_genero_runtime = df_genero_runtime.sort_values(by = 'runtime', ascending = False)"
   ]
  },
  {
   "cell_type": "code",
   "execution_count": null,
   "metadata": {
    "colab": {
     "base_uri": "https://localhost:8080/",
     "height": 497
    },
    "executionInfo": {
     "elapsed": 902,
     "status": "ok",
     "timestamp": 1622096440987,
     "user": {
      "displayName": "Utkarsh Sinha",
      "photoUrl": "",
      "userId": "11911393678467085382"
     },
     "user_tz": -330
    },
    "id": "AKKU1iTHH19k",
    "outputId": "115ea1e7-7e87-4332-a92a-8851c8081c28"
   },
   "outputs": [],
   "source": [
    "# Plot\n",
    "\n",
    "# Tamanho da figura\n",
    "plt.figure(figsize = (16,8))\n",
    "\n",
    "# Barplot\n",
    "sns.barplot(y = df_genero_runtime.genre, x = df_genero_runtime.runtime, orient = \"h\")\n",
    "\n",
    "# Loop\n",
    "for i in range(len(df_genero_runtime.index)):\n",
    "    plt.text(df_genero_runtime.runtime[df_genero_runtime.index[i]],\n",
    "             i + 0.25,\n",
    "             round(df_genero_runtime[\"runtime\"][df_genero_runtime.index[i]], 2))\n",
    "\n",
    "plt.ylabel('Gênero')             \n",
    "plt.xlabel('\\nMediana de Tempo de Duração (Minutos)')\n",
    "plt.title('\\nRelação Entre Duração e Gênero\\n')\n",
    "plt.show()"
   ]
  },
  {
   "cell_type": "markdown",
   "metadata": {
    "id": "t6ScDbBNzblj"
   },
   "source": [
    "## 8- Qual o Número de Filmes Produzidos Por País?\n",
    "\n",
    "Número de filmes produzidos por país."
   ]
  },
  {
   "cell_type": "code",
   "execution_count": null,
   "metadata": {
    "colab": {
     "base_uri": "https://localhost:8080/",
     "height": 402
    },
    "executionInfo": {
     "elapsed": 29930,
     "status": "ok",
     "timestamp": 1621952554276,
     "user": {
      "displayName": "Utkarsh Sinha",
      "photoUrl": "",
      "userId": "11911393678467085382"
     },
     "user_tz": -330
    },
    "id": "xit2KSBiLOdf",
    "outputId": "8d660d13-8a78-400e-d827-944ca8ec9802"
   },
   "outputs": [],
   "source": [
    "# Consulta SQL\n",
    "consulta8 = '''\n",
    "            SELECT region, COUNT(*) Number_of_movies FROM \n",
    "            akas JOIN titles ON \n",
    "            akas.title_id = titles.title_id\n",
    "            WHERE region != 'None'\n",
    "            AND type = \\'movie\\'\n",
    "            GROUP BY region\n",
    "            ''' "
   ]
  },
  {
   "cell_type": "code",
   "execution_count": null,
   "metadata": {},
   "outputs": [],
   "source": [
    "# Resultado\n",
    "resultado8 = pd.read_sql_query(consulta8, conn)"
   ]
  },
  {
   "cell_type": "code",
   "execution_count": null,
   "metadata": {},
   "outputs": [],
   "source": [
    "display(resultado8)"
   ]
  },
  {
   "cell_type": "code",
   "execution_count": null,
   "metadata": {},
   "outputs": [],
   "source": [
    "# Shape\n",
    "resultado8.shape"
   ]
  },
  {
   "cell_type": "code",
   "execution_count": null,
   "metadata": {},
   "outputs": [],
   "source": [
    "# Número de linhas\n",
    "resultado8.shape[0]"
   ]
  },
  {
   "cell_type": "code",
   "execution_count": null,
   "metadata": {},
   "outputs": [],
   "source": [
    "# Listas auxiliares\n",
    "nomes_paises = []\n",
    "contagem = []"
   ]
  },
  {
   "cell_type": "code",
   "execution_count": null,
   "metadata": {
    "id": "y0EiQBfgNEgb"
   },
   "outputs": [],
   "source": [
    "# Loop para obter o país de acordo com a região\n",
    "for i in range(resultado8.shape[0]):\n",
    "    try:\n",
    "        coun = resultado8['region'].values[i]\n",
    "        nomes_paises.append(pycountry.countries.get(alpha_2 = coun).name)\n",
    "        contagem.append(resultado8['Number_of_movies'].values[i])\n",
    "    except: \n",
    "        continue"
   ]
  },
  {
   "cell_type": "code",
   "execution_count": null,
   "metadata": {
    "id": "Ke69xq96Oeeu"
   },
   "outputs": [],
   "source": [
    "# Prepara o dataframe\n",
    "df_filmes_paises = pd.DataFrame()\n",
    "df_filmes_paises['country'] = nomes_paises\n",
    "df_filmes_paises['Movie_Count'] = contagem"
   ]
  },
  {
   "cell_type": "code",
   "execution_count": null,
   "metadata": {
    "id": "RyaO-hmNOxv-"
   },
   "outputs": [],
   "source": [
    "# Ordena o resultado\n",
    "df_filmes_paises = df_filmes_paises.sort_values(by = 'Movie_Count', ascending = False)"
   ]
  },
  {
   "cell_type": "code",
   "execution_count": null,
   "metadata": {},
   "outputs": [],
   "source": [
    "# Visualiza\n",
    "df_filmes_paises.head(10)"
   ]
  },
  {
   "cell_type": "code",
   "execution_count": null,
   "metadata": {
    "colab": {
     "base_uri": "https://localhost:8080/",
     "height": 446
    },
    "executionInfo": {
     "elapsed": 1725,
     "status": "ok",
     "timestamp": 1621952785166,
     "user": {
      "displayName": "Utkarsh Sinha",
      "photoUrl": "",
      "userId": "11911393678467085382"
     },
     "user_tz": -330
    },
    "id": "9vLWE-JaPB8K",
    "outputId": "f738f6a3-4128-469f-c772-bbd2614d8caf"
   },
   "outputs": [],
   "source": [
    "# Plot\n",
    "\n",
    "# Figura\n",
    "plt.figure(figsize = (20,8))\n",
    "\n",
    "# Barplot\n",
    "sns.barplot(y = df_filmes_paises[:20].country, x = df_filmes_paises[:20].Movie_Count, orient = \"h\")\n",
    "\n",
    "# Loop\n",
    "for i in range(0,20):\n",
    "    plt.text(df_filmes_paises.Movie_Count[df_filmes_paises.index[i]]-1,\n",
    "             i + 0.30,\n",
    "             round(df_filmes_paises[\"Movie_Count\"][df_filmes_paises.index[i]],2))\n",
    "\n",
    "plt.ylabel('País')             \n",
    "plt.xlabel('\\nNúmero de Filmes')\n",
    "plt.title('\\nNúmero de Filmes Produzidos Por País\\n')\n",
    "plt.show()"
   ]
  },
  {
   "cell_type": "markdown",
   "metadata": {
    "id": "szAHC3FEyoiv"
   },
   "source": [
    "## 9- Quais São os Top 10 Melhores Filmes?\n",
    "\n",
    "Top 10 filmes com melhor avaliação e mais de 25 mil votos."
   ]
  },
  {
   "cell_type": "code",
   "execution_count": null,
   "metadata": {
    "colab": {
     "base_uri": "https://localhost:8080/",
     "height": 343
    },
    "executionInfo": {
     "elapsed": 1249,
     "status": "ok",
     "timestamp": 1621952795722,
     "user": {
      "displayName": "Utkarsh Sinha",
      "photoUrl": "",
      "userId": "11911393678467085382"
     },
     "user_tz": -330
    },
    "id": "b4IB3sTJiStg",
    "outputId": "b8f85ad1-c741-4883-81ad-6e56aa690ba0"
   },
   "outputs": [],
   "source": [
    "# Consulta SQL\n",
    "consulta9 = '''\n",
    "            SELECT primary_title AS Movie_Name, genres, rating\n",
    "            FROM \n",
    "            titles JOIN ratings\n",
    "            ON  titles.title_id = ratings.title_id\n",
    "            WHERE titles.type = 'movie' AND ratings.votes >= 25000\n",
    "            ORDER BY rating DESC\n",
    "            LIMIT 10          \n",
    "            ''' "
   ]
  },
  {
   "cell_type": "code",
   "execution_count": null,
   "metadata": {},
   "outputs": [],
   "source": [
    "# Resultado\n",
    "top10_melhores_filmes = pd.read_sql_query(consulta9, conn)"
   ]
  },
  {
   "cell_type": "code",
   "execution_count": null,
   "metadata": {},
   "outputs": [],
   "source": [
    "display(top10_melhores_filmes)"
   ]
  },
  {
   "cell_type": "markdown",
   "metadata": {},
   "source": [
    "## 10- Quais São os Top 10 Piores Filmes?\n",
    "\n",
    "Top 10 filmes com pior avaliação e mais de 25 mil votos."
   ]
  },
  {
   "cell_type": "code",
   "execution_count": null,
   "metadata": {
    "colab": {
     "base_uri": "https://localhost:8080/",
     "height": 343
    },
    "executionInfo": {
     "elapsed": 613,
     "status": "ok",
     "timestamp": 1621952796329,
     "user": {
      "displayName": "Utkarsh Sinha",
      "photoUrl": "",
      "userId": "11911393678467085382"
     },
     "user_tz": -330
    },
    "id": "xNkQXdifjWEF",
    "outputId": "16e506a2-6cfd-49e6-f67d-b0b3894e4ff4"
   },
   "outputs": [],
   "source": [
    "# Consulta SQL\n",
    "consulta10 = '''\n",
    "            SELECT primary_title AS Movie_Name, genres, rating\n",
    "            FROM \n",
    "            titles JOIN ratings\n",
    "            ON  titles.title_id = ratings.title_id\n",
    "            WHERE titles.type = 'movie' AND ratings.votes >= 25000\n",
    "            ORDER BY rating ASC\n",
    "            LIMIT 10\n",
    "            ''' "
   ]
  },
  {
   "cell_type": "code",
   "execution_count": null,
   "metadata": {
    "id": "naOoI-IXfKSI"
   },
   "outputs": [],
   "source": [
    "# Resultado\n",
    "top10_piores_filmes = pd.read_sql_query(consulta10, conn)"
   ]
  },
  {
   "cell_type": "code",
   "execution_count": null,
   "metadata": {},
   "outputs": [],
   "source": [
    "display(top10_piores_filmes)"
   ]
  },
  {
   "cell_type": "markdown",
   "metadata": {},
   "source": [
    "# Fim"
   ]
  },
  {
   "cell_type": "markdown",
   "metadata": {},
   "source": [
    "### Obrigado\n",
    "\n",
    "### Visite o Blog da Data Science Academy - <a href=\"http://blog.dsacademy.com.br\">Blog DSA</a>"
   ]
  },
  {
   "cell_type": "markdown",
   "metadata": {},
   "source": [
    "Parabéns se você chegou até aqui. Use o voucher PYTHONDSA9642 para comprar qualquer curso ou Formação da DSA com 5% de desconto."
   ]
  }
 ],
 "metadata": {
  "colab": {
   "authorship_tag": "ABX9TyPgpy2v0symm6Hdd0+Ipzpu",
   "collapsed_sections": [
    "yebFAbpYviBJ",
    "m6W_XSp3yBSL",
    "CWF1erMywd2w",
    "jRKl5x8YxoXO",
    "V4RFdmlvsbgQ",
    "2F2Dmji2xR9v",
    "9U6CKRVVzF5O",
    "Z4O4rDdHy7oO"
   ],
   "name": "EDA_on_imdb_Utkarsh.ipynb",
   "provenance": [],
   "toc_visible": true
  },
  "kernelspec": {
   "display_name": "Python 3 (ipykernel)",
   "language": "python",
   "name": "python3"
  },
  "language_info": {
   "codemirror_mode": {
    "name": "ipython",
    "version": 3
   },
   "file_extension": ".py",
   "mimetype": "text/x-python",
   "name": "python",
   "nbconvert_exporter": "python",
   "pygments_lexer": "ipython3",
   "version": "3.8.10"
  }
 },
 "nbformat": 4,
 "nbformat_minor": 1
}
