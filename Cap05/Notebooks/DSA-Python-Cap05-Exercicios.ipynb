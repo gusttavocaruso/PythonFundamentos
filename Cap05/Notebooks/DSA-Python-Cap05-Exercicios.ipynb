{
 "cells": [
  {
   "cell_type": "markdown",
   "metadata": {},
   "source": [
    "## Exercícios"
   ]
  },
  {
   "cell_type": "code",
   "execution_count": 2,
   "metadata": {},
   "outputs": [],
   "source": [
    "# Exercício 1 - Crie um objeto a partir da classe abaixo, chamado roc1, passando 2 parâmetros e depois faça uma chamada\n",
    "# aos atributos e métodos\n",
    "from math import sqrt\n",
    "\n",
    "class Rocket():\n",
    "     \n",
    "    def __init__(self, x = 0, y = 0):\n",
    "        self.x = x\n",
    "        self.y = y\n",
    "        \n",
    "    def move_rocket(self, x_increment = 0, y_increment = 1):\n",
    "        self.x += x_increment\n",
    "        self.y += y_increment\n",
    "        \n",
    "    def print_rocket(self):\n",
    "        print(self.x, self.y)"
   ]
  },
  {
   "cell_type": "code",
   "execution_count": 19,
   "metadata": {},
   "outputs": [
    {
     "name": "stdout",
     "output_type": "stream",
     "text": [
      "2 4\n",
      "8 12\n"
     ]
    }
   ],
   "source": [
    "roc1 = Rocket(2, 4)\n",
    "roc1.print_rocket()\n",
    "roc1.move_rocket(6, 8)\n",
    "roc1.print_rocket()"
   ]
  },
  {
   "cell_type": "code",
   "execution_count": 38,
   "metadata": {},
   "outputs": [
    {
     "name": "stdout",
     "output_type": "stream",
     "text": [
      "Objeto criado\n"
     ]
    },
    {
     "data": {
      "text/plain": [
       "'The guy Gustavo is from Sorocaba'"
      ]
     },
     "execution_count": 38,
     "metadata": {},
     "output_type": "execute_result"
    }
   ],
   "source": [
    "# Exercício 2 - Crie uma classe chamada Pessoa() com os atributos: nome, cidade, telefone e e-mail. Use pelo menos 2\n",
    "# métodos especiais na sua classe. Crie um objeto da sua classe e faça uma chamada a pelo menos um dos seus métodos\n",
    "# especiais.\n",
    "\n",
    "class Pessoa():\n",
    "    \n",
    "    def __init__(self, nome, cidade, telefone=15123456789, email='nome@nada.com'):\n",
    "        self.nome = nome\n",
    "        self.cidade = cidade\n",
    "        self.telefone = telefone\n",
    "        self.email = email\n",
    "        print('Objeto criado')\n",
    "        \n",
    "    def print_Pessoa_nome(self):\n",
    "        print(self.nome)\n",
    "    \n",
    "    def __str__(self):\n",
    "        return 'The guy %s is from %s' %(self.nome, self.cidade)\n",
    "        \n",
    "\n",
    "pessoa1 = Pessoa('Gustavo', 'Sorocaba')\n",
    "str(pessoa1)\n"
   ]
  },
  {
   "cell_type": "code",
   "execution_count": 4,
   "metadata": {},
   "outputs": [
    {
     "name": "stdout",
     "output_type": "stream",
     "text": [
      "Atributes of this Device => Size: small // Interface: fullHD // Capacity: 128-GB\n",
      "Atributes of this Device => Size: big // Interface: Led // Capacity: 64-GB\n",
      "Atributes of this Device => Size: ? // Interface: ? // Capacity: ?\n"
     ]
    }
   ],
   "source": [
    "# Exercício 3 - Crie a classe Smartphone com 2 atributos, tamanho e interface e crie a classe MP3Player com os \n",
    "# atributos capacidade. A classe MP3player deve herdar os atributos da classe Smartphone.\n",
    "\n",
    "class Smartphone():\n",
    "    def __init__(self, size, interface):\n",
    "        self.size = size\n",
    "        self.interface = interface\n",
    "        \n",
    "class MP3Player(Smartphone):\n",
    "    def __init__(self, capacity = '?', size = '?', interface = '?'):\n",
    "        Smartphone.__init__(self, size, interface)\n",
    "        self.capacity = capacity\n",
    "        \n",
    "    def __str__(self):\n",
    "        return 'Atributes of this Device => Size: %s // Interface: %s // Capacity: %s' %(self.size, self.interface, self.capacity)\n",
    "        \n",
    "device1 = MP3Player('128-GB', 'small', 'fullHD')\n",
    "device2 = MP3Player('64-GB', 'big', 'Led')\n",
    "device3 = MP3Player()\n",
    "\n",
    "print(device1)\n",
    "print(device2)\n",
    "print(device3)"
   ]
  }
 ],
 "metadata": {
  "kernelspec": {
   "display_name": "Python 3",
   "language": "python",
   "name": "python3"
  },
  "language_info": {
   "codemirror_mode": {
    "name": "ipython",
    "version": 3
   },
   "file_extension": ".py",
   "mimetype": "text/x-python",
   "name": "python",
   "nbconvert_exporter": "python",
   "pygments_lexer": "ipython3",
   "version": "3.8.8"
  }
 },
 "nbformat": 4,
 "nbformat_minor": 1
}
